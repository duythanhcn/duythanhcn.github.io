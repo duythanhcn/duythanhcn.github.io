{
 "cells": [
  {
   "cell_type": "markdown",
   "metadata": {
    "slideshow": {
     "slide_type": "-"
    }
   },
   "source": [
    "# Python Seminar"
   ]
  },
  {
   "cell_type": "markdown",
   "metadata": {},
   "source": [
    "Các nội dung cần tìm hiểu khi học một ngôn ngữ lập trình mới\n",
    "- Loại ngôn ngữ : thông dịch hay biên dịch, functional hay OOP, multiplatform ?\n",
    "- Ứng dụng của ngôn ngữ\n",
    "- IDE, tool hỗ trợ lập trình\n",
    "- Kiểu dữ liệu : Primitive và Non-primitive\n",
    "- Toán tử\n",
    "- Cấu trúc điều khiển: for, while, if-else, switch-case....\n",
    "- Các libs, framework hỗ trợ\n",
    "- Cộng đồng phát triển"
   ]
  },
  {
   "cell_type": "markdown",
   "metadata": {},
   "source": [
    "## I. Python’s Special Feature List"
   ]
  },
  {
   "cell_type": "markdown",
   "metadata": {},
   "source": [
    "### 1. Ứng dụng\n",
    "    Web development\n",
    "    Software development\n",
    "    Mathematics\n",
    "    System scripting \n",
    "### 2. Cross Platform\n",
    "### 3. Có 2 trường phái chính về syntax : v.2.x và v.3.x\n",
    "### 4. Sử dụng indent để phân biệt block code thay vì {}\n",
    "### 5. Biến : không có từ khoá khai báo biến. Biến được tạo tại thời điểm được assign giá trị\n"
   ]
  },
  {
   "cell_type": "code",
   "execution_count": 2,
   "metadata": {},
   "outputs": [
    {
     "name": "stdout",
     "output_type": "stream",
     "text": [
      "2\n",
      "hello\n"
     ]
    }
   ],
   "source": [
    "#ví dụ về biến\n",
    "# khai báo sai\n",
    "# a\n",
    "# print(a)\n",
    "# khai báo đúng\n",
    "b = 2\n",
    "print(b)\n",
    "b = 'hello'\n",
    "print(b)"
   ]
  },
  {
   "cell_type": "markdown",
   "metadata": {},
   "source": [
    "### 6. Chuỗi : Slicing chuỗi"
   ]
  },
  {
   "cell_type": "code",
   "execution_count": 6,
   "metadata": {},
   "outputs": [
    {
     "name": "stdout",
     "output_type": "stream",
     "text": [
      "llo\n",
      "orl\n",
      "orld!\n"
     ]
    }
   ],
   "source": [
    "b = \"Hello, World!\"\n",
    "# lấy các ký tự từ >=2 đến < 5\n",
    "print(b[2:5])\n",
    "# lấy các ký tự từ >= 2 đến < 5, tính từ cuối chuỗi\n",
    "print(b[-5:-2])\n",
    "print(b[-5:])"
   ]
  },
  {
   "cell_type": "markdown",
   "metadata": {},
   "source": [
    "### 7. Toán tử "
   ]
  },
  {
   "cell_type": "code",
   "execution_count": 7,
   "metadata": {},
   "outputs": [
    {
     "name": "stdout",
     "output_type": "stream",
     "text": [
      "25\n"
     ]
    }
   ],
   "source": [
    "# toán tử luỹ thừa :  **\n",
    "a = 5\n",
    "print(a**2)"
   ]
  },
  {
   "cell_type": "code",
   "execution_count": 10,
   "metadata": {},
   "outputs": [
    {
     "name": "stdout",
     "output_type": "stream",
     "text": [
      "2\n"
     ]
    }
   ],
   "source": [
    "# toán tử ++, --\n",
    "a = 1\n",
    "# a++\n",
    "# print(a)\n",
    "# a--\n",
    "# print(a)\n",
    "a +=1\n",
    "print(a)"
   ]
  },
  {
   "cell_type": "code",
   "execution_count": 11,
   "metadata": {},
   "outputs": [
    {
     "name": "stdout",
     "output_type": "stream",
     "text": [
      "False\n",
      "True\n",
      "False\n"
     ]
    }
   ],
   "source": [
    "#Comparison Operators\n",
    "a = True\n",
    "b = False\n",
    "# && = and\n",
    "print(a and b)\n",
    "# || = or\n",
    "print(a or b)\n",
    "# ! = not\n",
    "print(not a)"
   ]
  },
  {
   "cell_type": "markdown",
   "metadata": {},
   "source": [
    "### 8. Python Collections "
   ]
  },
  {
   "cell_type": "code",
   "execution_count": 16,
   "metadata": {},
   "outputs": [
    {
     "name": "stdout",
     "output_type": "stream",
     "text": [
      "['apple', 2, 'cherry']\n",
      "sort:  ['apple', 2, 'cherry']\n"
     ]
    }
   ],
   "source": [
    "# List \n",
    "# mutable\n",
    "# ordered\n",
    "_list = [\"apple\", \"banana\", \"cherry\"]\n",
    "_list[1] = 2\n",
    "print(_list)\n",
    "#print(_list[1:2])\n",
    "#_list.sort()\n",
    "print('sort: ', _list)"
   ]
  },
  {
   "cell_type": "code",
   "execution_count": 17,
   "metadata": {},
   "outputs": [
    {
     "ename": "TypeError",
     "evalue": "'tuple' object does not support item assignment",
     "output_type": "error",
     "traceback": [
      "\u001b[0;31m---------------------------------------------------------------------------\u001b[0m",
      "\u001b[0;31mTypeError\u001b[0m                                 Traceback (most recent call last)",
      "\u001b[0;32m<ipython-input-17-9299550ef988>\u001b[0m in \u001b[0;36m<module>\u001b[0;34m()\u001b[0m\n\u001b[1;32m      3\u001b[0m \u001b[0;31m# immutable - can not change value of any item\u001b[0m\u001b[0;34m\u001b[0m\u001b[0;34m\u001b[0m\u001b[0m\n\u001b[1;32m      4\u001b[0m \u001b[0m_tuple\u001b[0m \u001b[0;34m=\u001b[0m \u001b[0;34m(\u001b[0m\u001b[0;36m3\u001b[0m\u001b[0;34m,\u001b[0m \u001b[0;36m6\u001b[0m\u001b[0;34m,\u001b[0m \u001b[0;36m8\u001b[0m\u001b[0;34m,\u001b[0m \u001b[0;36m2\u001b[0m\u001b[0;34m,\u001b[0m \u001b[0;36m78\u001b[0m\u001b[0;34m,\u001b[0m \u001b[0;36m1\u001b[0m\u001b[0;34m,\u001b[0m \u001b[0;36m23\u001b[0m\u001b[0;34m,\u001b[0m \u001b[0;36m45\u001b[0m\u001b[0;34m,\u001b[0m \u001b[0;36m9\u001b[0m\u001b[0;34m)\u001b[0m\u001b[0;34m\u001b[0m\u001b[0m\n\u001b[0;32m----> 5\u001b[0;31m \u001b[0m_tuple\u001b[0m\u001b[0;34m[\u001b[0m\u001b[0;36m1\u001b[0m\u001b[0;34m]\u001b[0m \u001b[0;34m=\u001b[0m \u001b[0;36m5\u001b[0m\u001b[0;34m\u001b[0m\u001b[0m\n\u001b[0m\u001b[1;32m      6\u001b[0m \u001b[0mprint\u001b[0m\u001b[0;34m(\u001b[0m\u001b[0m_tuple\u001b[0m\u001b[0;34m)\u001b[0m\u001b[0;34m\u001b[0m\u001b[0m\n",
      "\u001b[0;31mTypeError\u001b[0m: 'tuple' object does not support item assignment"
     ]
    }
   ],
   "source": [
    "# Tuple \n",
    "# ordered\n",
    "# immutable - can not change value of any item\n",
    "_tuple = (3, 6, 8, 2, 78, 1, 23, 45, 9)\n",
    "_tuple[1] = 5\n",
    "print(_tuple)"
   ]
  },
  {
   "cell_type": "code",
   "execution_count": 18,
   "metadata": {},
   "outputs": [
    {
     "name": "stdout",
     "output_type": "stream",
     "text": [
      "{'banana', 'apple', 'cherry'}\n"
     ]
    },
    {
     "ename": "TypeError",
     "evalue": "'set' object does not support indexing",
     "output_type": "error",
     "traceback": [
      "\u001b[0;31m---------------------------------------------------------------------------\u001b[0m",
      "\u001b[0;31mTypeError\u001b[0m                                 Traceback (most recent call last)",
      "\u001b[0;32m<ipython-input-18-f4ce7f9e2fc1>\u001b[0m in \u001b[0;36m<module>\u001b[0;34m()\u001b[0m\n\u001b[1;32m      5\u001b[0m \u001b[0m_set\u001b[0m \u001b[0;34m=\u001b[0m \u001b[0;34m{\u001b[0m\u001b[0;34m\"apple\"\u001b[0m\u001b[0;34m,\u001b[0m \u001b[0;34m\"banana\"\u001b[0m\u001b[0;34m,\u001b[0m \u001b[0;34m\"cherry\"\u001b[0m\u001b[0;34m,\u001b[0m \u001b[0;34m\"cherry\"\u001b[0m\u001b[0;34m}\u001b[0m\u001b[0;34m\u001b[0m\u001b[0m\n\u001b[1;32m      6\u001b[0m \u001b[0mprint\u001b[0m\u001b[0;34m(\u001b[0m\u001b[0m_set\u001b[0m\u001b[0;34m)\u001b[0m\u001b[0;34m\u001b[0m\u001b[0m\n\u001b[0;32m----> 7\u001b[0;31m \u001b[0mprint\u001b[0m\u001b[0;34m(\u001b[0m\u001b[0m_set\u001b[0m\u001b[0;34m[\u001b[0m\u001b[0;36m1\u001b[0m\u001b[0;34m]\u001b[0m\u001b[0;34m)\u001b[0m\u001b[0;34m\u001b[0m\u001b[0m\n\u001b[0m",
      "\u001b[0;31mTypeError\u001b[0m: 'set' object does not support indexing"
     ]
    }
   ],
   "source": [
    "# Set\n",
    "# unordered, \n",
    "# unindexed - can not access item by index\n",
    "# unduplicated\n",
    "_set = {\"apple\", \"banana\", \"cherry\", \"cherry\"}\n",
    "print(_set)\n",
    "print(_set[1])"
   ]
  },
  {
   "cell_type": "code",
   "execution_count": 20,
   "metadata": {},
   "outputs": [
    {
     "ename": "KeyError",
     "evalue": "'brand1'",
     "output_type": "error",
     "traceback": [
      "\u001b[0;31m---------------------------------------------------------------------------\u001b[0m",
      "\u001b[0;31mKeyError\u001b[0m                                  Traceback (most recent call last)",
      "\u001b[0;32m<ipython-input-20-240607ea3165>\u001b[0m in \u001b[0;36m<module>\u001b[0;34m()\u001b[0m\n\u001b[1;32m      5\u001b[0m   \u001b[0;34m\"year\"\u001b[0m\u001b[0;34m:\u001b[0m \u001b[0;36m1964\u001b[0m\u001b[0;34m\u001b[0m\u001b[0m\n\u001b[1;32m      6\u001b[0m }\n\u001b[0;32m----> 7\u001b[0;31m \u001b[0mprint\u001b[0m\u001b[0;34m(\u001b[0m\u001b[0m_dict\u001b[0m\u001b[0;34m[\u001b[0m\u001b[0;34m'brand1'\u001b[0m\u001b[0;34m]\u001b[0m\u001b[0;34m)\u001b[0m\u001b[0;34m\u001b[0m\u001b[0m\n\u001b[0m",
      "\u001b[0;31mKeyError\u001b[0m: 'brand1'"
     ]
    }
   ],
   "source": [
    "# Dictionary -\n",
    "_dict = {\n",
    "  \"brand\": \"Ford\",\n",
    "  \"model\": \"Mustang\",\n",
    "  \"year\": 1964\n",
    "}\n",
    "print(_dict['brand1'])\n"
   ]
  },
  {
   "cell_type": "markdown",
   "metadata": {},
   "source": [
    "### 9. Cấu trúc điều khiển"
   ]
  },
  {
   "cell_type": "code",
   "execution_count": 22,
   "metadata": {},
   "outputs": [
    {
     "ename": "IndentationError",
     "evalue": "unexpected indent (<ipython-input-22-2d3fcab84361>, line 4)",
     "output_type": "error",
     "traceback": [
      "\u001b[0;36m  File \u001b[0;32m\"<ipython-input-22-2d3fcab84361>\"\u001b[0;36m, line \u001b[0;32m4\u001b[0m\n\u001b[0;31m    case 1:\u001b[0m\n\u001b[0m    ^\u001b[0m\n\u001b[0;31mIndentationError\u001b[0m\u001b[0;31m:\u001b[0m unexpected indent\n"
     ]
    }
   ],
   "source": [
    "#switch - case\n",
    "a = 5\n",
    "switch(a) \n",
    "    case 1:\n",
    "     print(1)\n",
    "    case 2:\n",
    "     print(2)\n",
    "    default:\n",
    "     print(0)\n"
   ]
  },
  {
   "cell_type": "code",
   "execution_count": 24,
   "metadata": {},
   "outputs": [
    {
     "name": "stdout",
     "output_type": "stream",
     "text": [
      "2\n",
      "4\n"
     ]
    }
   ],
   "source": [
    "# for in range : range(start=0, end, increment=1)\n",
    "for x in range(2,6,2):\n",
    "    print(x)\n",
    "# for with else\n",
    "# for x in range(6):\n",
    "#     print(x)\n",
    "# else:\n",
    "#     print(\"Finally finished!\")"
   ]
  },
  {
   "cell_type": "markdown",
   "metadata": {},
   "source": [
    "### 10. Function declare"
   ]
  },
  {
   "cell_type": "code",
   "execution_count": 25,
   "metadata": {},
   "outputs": [
    {
     "name": "stdout",
     "output_type": "stream",
     "text": [
      "Hello from a function with params:  parameter 1 parameter 2\n",
      "Hello from a function with params:  one parameter 2\n",
      "Hello from a function with params:  one two\n",
      "Hello from a function with params:  parameter 1 two\n"
     ]
    }
   ],
   "source": [
    "def my_function(_parameter1 = \"parameter 1\", _parameter2 = \"parameter 2\"):\n",
    "    print(\"Hello from a function with params: \", _parameter1, _parameter2)\n",
    "\n",
    "my_function()\n",
    "my_function('one')\n",
    "my_function('one', 'two')\n",
    "my_function(_parameter2 = 'two')"
   ]
  },
  {
   "cell_type": "markdown",
   "metadata": {},
   "source": [
    "### 11. Lambda function"
   ]
  },
  {
   "cell_type": "code",
   "execution_count": 26,
   "metadata": {},
   "outputs": [
    {
     "name": "stdout",
     "output_type": "stream",
     "text": [
      "15\n"
     ]
    }
   ],
   "source": [
    "x = lambda a : a + 10\n",
    "print(x(5))"
   ]
  },
  {
   "cell_type": "markdown",
   "metadata": {},
   "source": [
    "### 12. Hướng đối tượng"
   ]
  },
  {
   "cell_type": "code",
   "execution_count": 27,
   "metadata": {},
   "outputs": [
    {
     "name": "stdout",
     "output_type": "stream",
     "text": [
      "John\n",
      "Hello my name is John\n",
      "None\n"
     ]
    }
   ],
   "source": [
    "# 1. Class - Object\n",
    "class Person:\n",
    "    # constructor\n",
    "    # self = this cursor \n",
    "    def __init__(self, name, age):\n",
    "        self.name = name\n",
    "        self.age = age\n",
    "    # require to pass self(alias)    \n",
    "    def getName(self):\n",
    "        print(\"Hello my name is \" + self.name)\n",
    "\n",
    "p1 = Person(\"John\", 36)\n",
    "\n",
    "print(p1.name)\n",
    "print(p1.getName())"
   ]
  },
  {
   "cell_type": "code",
   "execution_count": 29,
   "metadata": {},
   "outputs": [
    {
     "name": "stdout",
     "output_type": "stream",
     "text": [
      "Hello my name is Thanh\n",
      "None\n",
      "Work at vitalify\n",
      "None\n"
     ]
    }
   ],
   "source": [
    "# 2 - Inheritance\n",
    "# class Student(Person):\n",
    "#     # sử dụng từ khoá pass nếu muốn xài y chang lớp cha\n",
    "#     pass\n",
    "# student = Student('Thanh', 28)\n",
    "# print(student.getName())\n",
    "##\n",
    "class Employee(Person):\n",
    "    def __init__(self, name, age, _company):\n",
    "        # kế thừa lại toàn bộ props + method từ class cha\n",
    "        super().__init__(name, age)\n",
    "        self.company = _company\n",
    "    def getCompany(self):\n",
    "        print('Work at ' + self.company)\n",
    "        \n",
    "emp = Employee('Thanh', 28, 'vitalify')\n",
    "print(emp.getName())\n",
    "print(emp.getCompany())"
   ]
  },
  {
   "cell_type": "markdown",
   "metadata": {},
   "source": [
    "## II. Demo with simple Flask"
   ]
  },
  {
   "cell_type": "code",
   "execution_count": null,
   "metadata": {},
   "outputs": [],
   "source": [
    "from flask import Flask\n",
    "\n",
    "app = Flask(__name__)\n",
    "\n",
    "\n",
    "@app.route('/')\n",
    "def hello():\n",
    "    return 'Hello, World!'\n",
    "\n",
    "if __name__ == \"__main__\":\n",
    "    app.run()"
   ]
  },
  {
   "cell_type": "code",
   "execution_count": null,
   "metadata": {},
   "outputs": [],
   "source": [
    "# tạo file với nội dung trên và lưu dưới dạng app.py\n",
    "# mở terminal và chạy lệnh\n",
    "# python app.py\n"
   ]
  }
 ],
 "metadata": {
  "kernelspec": {
   "display_name": "Python 3",
   "language": "python",
   "name": "python3"
  },
  "language_info": {
   "codemirror_mode": {
    "name": "ipython",
    "version": 3
   },
   "file_extension": ".py",
   "mimetype": "text/x-python",
   "name": "python",
   "nbconvert_exporter": "python",
   "pygments_lexer": "ipython3",
   "version": "3.6.5"
  }
 },
 "nbformat": 4,
 "nbformat_minor": 2
}
